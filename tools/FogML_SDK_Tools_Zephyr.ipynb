{
  "cells": [
    {
      "cell_type": "markdown",
      "source": [
        "# **FogML Time Series Data Classification For MCU**"
      ],
      "metadata": {
        "id": "vJ_797DoXFj2"
      }
    },
    {
      "cell_type": "markdown",
      "source": [
        "## FogML installation"
      ],
      "metadata": {
        "id": "1AFceIvEzoqB"
      }
    },
    {
      "cell_type": "code",
      "execution_count": 1,
      "metadata": {
        "colab": {
          "base_uri": "https://localhost:8080/"
        },
        "id": "ZC5jiXiTgsYV",
        "outputId": "2391f1a1-524c-4df9-ab46-cc0154210cb6"
      },
      "outputs": [
        {
          "output_type": "stream",
          "name": "stdout",
          "text": [
            "Looking in indexes: https://pypi.org/simple, https://us-python.pkg.dev/colab-wheels/public/simple/\n",
            "Collecting fogml\n",
            "  Downloading fogml-0.0.5-py3-none-any.whl (22 kB)\n",
            "Installing collected packages: fogml\n",
            "Successfully installed fogml-0.0.5\n"
          ]
        }
      ],
      "source": [
        "!pip install fogml"
      ]
    },
    {
      "cell_type": "code",
      "execution_count": 16,
      "metadata": {
        "id": "0i0v8FX3g91Q"
      },
      "outputs": [],
      "source": [
        "from sklearn.ensemble import RandomForestClassifier\n",
        "from sklearn.datasets import make_classification\n",
        "\n",
        "import pandas as pd\n",
        "import numpy as np\n",
        "import matplotlib.pyplot as plt\n",
        "\n",
        "from fogml.generators import GeneratorFactory"
      ]
    },
    {
      "cell_type": "markdown",
      "source": [
        "## Data preparation"
      ],
      "metadata": {
        "id": "legsXf2p0YSu"
      }
    },
    {
      "cell_type": "markdown",
      "source": [
        "In the example application for MCU, set `#define DATA_LOGGER` and collect data for various gestures/speeds/etc."
      ],
      "metadata": {
        "id": "cRhrv8uV0L52"
      }
    },
    {
      "cell_type": "code",
      "source": [
        "DATA = [\"0_idle.csv\", \"1_circle.csv\", \"2_snake.csv\", \"3_up_down.csv\"]\n",
        "LABELS = [\"IDLE\", \"CIRCLE\", \"SNAKE\", \"UP DOWN\"]"
      ],
      "metadata": {
        "id": "-YAxSmalzVy_"
      },
      "execution_count": 17,
      "outputs": []
    },
    {
      "cell_type": "markdown",
      "source": [
        "## Random forrest model training"
      ],
      "metadata": {
        "id": "85DLeLCyXUyF"
      }
    },
    {
      "cell_type": "code",
      "source": [
        "spX_t = []\n",
        "spY_t = []\n",
        "\n",
        "i = 0\n",
        "for fname in DATA:\n",
        "  tmp = pd.read_csv(fname, delimiter=\" \", header=None)\n",
        "  spX_t.append(tmp)\n",
        "  spY_t.append([i] * tmp.shape[0])\n",
        "  i = i + 1\n",
        "\n",
        "spX = np.concatenate( spX_t, axis = 0 )\n",
        "spY = np.concatenate( spY_t, axis = 0 )\n",
        "\n",
        "print(spX.shape)\n",
        "print(spY.shape)"
      ],
      "metadata": {
        "colab": {
          "base_uri": "https://localhost:8080/"
        },
        "id": "C0PEobsNv_wp",
        "outputId": "80889be6-9e00-4293-d2ca-4490ea9b58c8"
      },
      "execution_count": 18,
      "outputs": [
        {
          "output_type": "stream",
          "name": "stdout",
          "text": [
            "(104, 12)\n",
            "(104,)\n"
          ]
        }
      ]
    },
    {
      "cell_type": "code",
      "execution_count": 19,
      "metadata": {
        "id": "AGwuKgYEg34S",
        "colab": {
          "base_uri": "https://localhost:8080/"
        },
        "outputId": "c919841a-7d4b-491b-c4c0-d226a5353360"
      },
      "outputs": [
        {
          "output_type": "stream",
          "name": "stdout",
          "text": [
            "accuracy:  1.0\n"
          ]
        }
      ],
      "source": [
        "clf = RandomForestClassifier(max_depth=3, random_state=0)\n",
        "clf.fit(spX, spY)\n",
        "print( 'accuracy: ',clf.score(spX,spY))"
      ]
    },
    {
      "cell_type": "markdown",
      "source": [
        "# FogML Classifier Generation"
      ],
      "metadata": {
        "id": "GiO6uEG9W1TE"
      }
    },
    {
      "cell_type": "code",
      "source": [
        "factory = GeneratorFactory()\n",
        "generator = factory.get_generator(clf)\n",
        "generator.generate()"
      ],
      "metadata": {
        "id": "7PCqY10ipcx-"
      },
      "execution_count": 20,
      "outputs": []
    },
    {
      "cell_type": "markdown",
      "source": [
        "Copy generated `random_forrest_model.c` to the folder `fogml_generated` in the MCU project.\n"
      ],
      "metadata": {
        "id": "gCN5nxTTLwSs"
      }
    },
    {
      "cell_type": "markdown",
      "source": [
        "## Appendix - Feature Importance Analysis"
      ],
      "metadata": {
        "id": "VPOELgakJ3Gv"
      }
    },
    {
      "cell_type": "code",
      "source": [
        "DSP_BLOCKS = [\"BASE\", \"RMS\", \"CROSSINGS\"]\n",
        "\n",
        "DSP_BLOCKS_FEATURES = {\"BASE\": [\"(max-min)_X\", \"mean_X\", \"(max-min)_Y\", \"mean_Y\", \"(max-min)_Z\", \"mean_Z\"],\n",
        "              \"RMS\": [\"RMS_X\", \"RMS_Y\", \"RMS_Z\"],\n",
        "              \"CROSSINGS\": [\"CROSS_X\", \"CROSS_Y\", \"CROSS_Z\"]}\n",
        "\n",
        "feature_names = [\"(max-min)_X\", \"mean_X\", \"(max-min)_Y\", \"mean_Y\", \"(max-min)_Z\", \"mean_Z\",\n",
        "                 \"RMS_X\", \"RMS_Y\", \"RMS_Z\",\n",
        "                 \"CROSS_X\", \"CROSS_Y\", \"CROSS_Z\"]\n",
        "\n",
        "\n",
        "importances = clf.feature_importances_\n",
        "std = np.std([tree.feature_importances_ for tree in clf.estimators_], axis=0)\n",
        "\n",
        "forest_importances = pd.Series(importances, index=feature_names)\n",
        "\n",
        "fig, ax = plt.subplots()\n",
        "forest_importances.plot.bar(yerr=std, ax=ax)\n",
        "ax.set_title(\"Feature importances using MDI\")\n",
        "ax.set_ylabel(\"Mean decrease in impurity\")\n",
        "fig.tight_layout()"
      ],
      "metadata": {
        "colab": {
          "base_uri": "https://localhost:8080/",
          "height": 297
        },
        "id": "ozcNCRfDJ2T9",
        "outputId": "9505a0be-9e05-44f6-8552-d2c60ff973db"
      },
      "execution_count": 21,
      "outputs": [
        {
          "output_type": "display_data",
          "data": {
            "text/plain": [
              "<Figure size 432x288 with 1 Axes>"
            ],
            "image/png": "[encoded data removed]"
          },
          "metadata": {
            "needs_background": "light"
          }
        }
      ]
    }
  ],
  "metadata": {
    "colab": {
      "collapsed_sections": [],
      "name": "FogML_SDK_Tools_Zephyr.ipynb",
      "provenance": []
    },
    "kernelspec": {
      "display_name": "Python 3",
      "name": "python3"
    },
    "language_info": {
      "name": "python"
    }
  },
  "nbformat": 4,
  "nbformat_minor": 0
}